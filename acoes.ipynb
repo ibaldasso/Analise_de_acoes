{
 "cells": [
  {
   "cell_type": "code",
   "execution_count": 1,
   "metadata": {},
   "outputs": [
    {
     "name": "stderr",
     "output_type": "stream",
     "text": [
      "/home/igor/anaconda3/lib/python3.9/site-packages/scipy/__init__.py:146: UserWarning: A NumPy version >=1.16.5 and <1.23.0 is required for this version of SciPy (detected version 1.23.3\n",
      "  warnings.warn(f\"A NumPy version >={np_minversion} and <{np_maxversion}\"\n"
     ]
    }
   ],
   "source": [
    "# Importações.\n",
    "import pandas as pd\n",
    "import numpy as np\n",
    "import matplotlib.pyplot as plt\n",
    "import seaborn as sns\n",
    "import plotly.express as px\n",
    "import yfinance as yf"
   ]
  },
  {
   "cell_type": "code",
   "execution_count": 2,
   "metadata": {},
   "outputs": [
    {
     "name": "stdout",
     "output_type": "stream",
     "text": [
      "[*********************100%***********************]  1 of 1 completed\n"
     ]
    }
   ],
   "source": [
    "# Carga dos dados.\n",
    "petr3 = yf.download('PETR3.SA', start = '2015-01-01')"
   ]
  },
  {
   "cell_type": "code",
   "execution_count": 3,
   "metadata": {},
   "outputs": [
    {
     "data": {
      "text/html": [
       "<div>\n",
       "<style scoped>\n",
       "    .dataframe tbody tr th:only-of-type {\n",
       "        vertical-align: middle;\n",
       "    }\n",
       "\n",
       "    .dataframe tbody tr th {\n",
       "        vertical-align: top;\n",
       "    }\n",
       "\n",
       "    .dataframe thead th {\n",
       "        text-align: right;\n",
       "    }\n",
       "</style>\n",
       "<table border=\"1\" class=\"dataframe\">\n",
       "  <thead>\n",
       "    <tr style=\"text-align: right;\">\n",
       "      <th></th>\n",
       "      <th>Open</th>\n",
       "      <th>High</th>\n",
       "      <th>Low</th>\n",
       "      <th>Close</th>\n",
       "      <th>Adj Close</th>\n",
       "      <th>Volume</th>\n",
       "    </tr>\n",
       "    <tr>\n",
       "      <th>Date</th>\n",
       "      <th></th>\n",
       "      <th></th>\n",
       "      <th></th>\n",
       "      <th></th>\n",
       "      <th></th>\n",
       "      <th></th>\n",
       "    </tr>\n",
       "  </thead>\n",
       "  <tbody>\n",
       "    <tr>\n",
       "      <th>2015-01-02</th>\n",
       "      <td>9.58</td>\n",
       "      <td>9.67</td>\n",
       "      <td>9.00</td>\n",
       "      <td>9.00</td>\n",
       "      <td>4.747638</td>\n",
       "      <td>12710900</td>\n",
       "    </tr>\n",
       "    <tr>\n",
       "      <th>2015-01-05</th>\n",
       "      <td>8.64</td>\n",
       "      <td>8.96</td>\n",
       "      <td>8.25</td>\n",
       "      <td>8.27</td>\n",
       "      <td>4.362552</td>\n",
       "      <td>25730600</td>\n",
       "    </tr>\n",
       "    <tr>\n",
       "      <th>2015-01-06</th>\n",
       "      <td>8.28</td>\n",
       "      <td>8.53</td>\n",
       "      <td>7.78</td>\n",
       "      <td>8.06</td>\n",
       "      <td>4.251774</td>\n",
       "      <td>29754600</td>\n",
       "    </tr>\n",
       "    <tr>\n",
       "      <th>2015-01-07</th>\n",
       "      <td>8.30</td>\n",
       "      <td>8.51</td>\n",
       "      <td>8.08</td>\n",
       "      <td>8.45</td>\n",
       "      <td>4.457505</td>\n",
       "      <td>34128300</td>\n",
       "    </tr>\n",
       "    <tr>\n",
       "      <th>2015-01-08</th>\n",
       "      <td>8.60</td>\n",
       "      <td>9.26</td>\n",
       "      <td>8.52</td>\n",
       "      <td>9.02</td>\n",
       "      <td>4.758188</td>\n",
       "      <td>37487300</td>\n",
       "    </tr>\n",
       "  </tbody>\n",
       "</table>\n",
       "</div>"
      ],
      "text/plain": [
       "            Open  High   Low  Close  Adj Close    Volume\n",
       "Date                                                    \n",
       "2015-01-02  9.58  9.67  9.00   9.00   4.747638  12710900\n",
       "2015-01-05  8.64  8.96  8.25   8.27   4.362552  25730600\n",
       "2015-01-06  8.28  8.53  7.78   8.06   4.251774  29754600\n",
       "2015-01-07  8.30  8.51  8.08   8.45   4.457505  34128300\n",
       "2015-01-08  8.60  9.26  8.52   9.02   4.758188  37487300"
      ]
     },
     "execution_count": 3,
     "metadata": {},
     "output_type": "execute_result"
    }
   ],
   "source": [
    "# Verificando os 5 primeiros elementos da base de dados.\n",
    "petr3.head()"
   ]
  },
  {
   "cell_type": "markdown",
   "metadata": {},
   "source": [
    "* Nossa base de dados começa em **`2015-01-02`**."
   ]
  },
  {
   "cell_type": "code",
   "execution_count": 4,
   "metadata": {},
   "outputs": [
    {
     "data": {
      "text/html": [
       "<div>\n",
       "<style scoped>\n",
       "    .dataframe tbody tr th:only-of-type {\n",
       "        vertical-align: middle;\n",
       "    }\n",
       "\n",
       "    .dataframe tbody tr th {\n",
       "        vertical-align: top;\n",
       "    }\n",
       "\n",
       "    .dataframe thead th {\n",
       "        text-align: right;\n",
       "    }\n",
       "</style>\n",
       "<table border=\"1\" class=\"dataframe\">\n",
       "  <thead>\n",
       "    <tr style=\"text-align: right;\">\n",
       "      <th></th>\n",
       "      <th>Open</th>\n",
       "      <th>High</th>\n",
       "      <th>Low</th>\n",
       "      <th>Close</th>\n",
       "      <th>Adj Close</th>\n",
       "      <th>Volume</th>\n",
       "    </tr>\n",
       "    <tr>\n",
       "      <th>Date</th>\n",
       "      <th></th>\n",
       "      <th></th>\n",
       "      <th></th>\n",
       "      <th></th>\n",
       "      <th></th>\n",
       "      <th></th>\n",
       "    </tr>\n",
       "  </thead>\n",
       "  <tbody>\n",
       "    <tr>\n",
       "      <th>2022-09-12</th>\n",
       "      <td>35.900002</td>\n",
       "      <td>36.500000</td>\n",
       "      <td>35.320000</td>\n",
       "      <td>35.330002</td>\n",
       "      <td>35.330002</td>\n",
       "      <td>15413700</td>\n",
       "    </tr>\n",
       "    <tr>\n",
       "      <th>2022-09-13</th>\n",
       "      <td>34.799999</td>\n",
       "      <td>35.310001</td>\n",
       "      <td>34.090000</td>\n",
       "      <td>34.259998</td>\n",
       "      <td>34.259998</td>\n",
       "      <td>25361200</td>\n",
       "    </tr>\n",
       "    <tr>\n",
       "      <th>2022-09-14</th>\n",
       "      <td>34.320000</td>\n",
       "      <td>35.189999</td>\n",
       "      <td>34.200001</td>\n",
       "      <td>34.680000</td>\n",
       "      <td>34.680000</td>\n",
       "      <td>11926000</td>\n",
       "    </tr>\n",
       "    <tr>\n",
       "      <th>2022-09-15</th>\n",
       "      <td>34.360001</td>\n",
       "      <td>34.880001</td>\n",
       "      <td>34.349998</td>\n",
       "      <td>34.599998</td>\n",
       "      <td>34.599998</td>\n",
       "      <td>9164700</td>\n",
       "    </tr>\n",
       "    <tr>\n",
       "      <th>2022-09-16</th>\n",
       "      <td>34.169998</td>\n",
       "      <td>34.580002</td>\n",
       "      <td>34.000000</td>\n",
       "      <td>34.410000</td>\n",
       "      <td>34.410000</td>\n",
       "      <td>34954800</td>\n",
       "    </tr>\n",
       "  </tbody>\n",
       "</table>\n",
       "</div>"
      ],
      "text/plain": [
       "                 Open       High        Low      Close  Adj Close    Volume\n",
       "Date                                                                       \n",
       "2022-09-12  35.900002  36.500000  35.320000  35.330002  35.330002  15413700\n",
       "2022-09-13  34.799999  35.310001  34.090000  34.259998  34.259998  25361200\n",
       "2022-09-14  34.320000  35.189999  34.200001  34.680000  34.680000  11926000\n",
       "2022-09-15  34.360001  34.880001  34.349998  34.599998  34.599998   9164700\n",
       "2022-09-16  34.169998  34.580002  34.000000  34.410000  34.410000  34954800"
      ]
     },
     "execution_count": 4,
     "metadata": {},
     "output_type": "execute_result"
    }
   ],
   "source": [
    "# Verificando os 5 últimos elementos de nossa base de dados.\n",
    "petr3.tail()"
   ]
  },
  {
   "cell_type": "markdown",
   "metadata": {},
   "source": [
    "* Nossa base de dados vai até **`2022-09-16`**."
   ]
  },
  {
   "cell_type": "code",
   "execution_count": 5,
   "metadata": {},
   "outputs": [
    {
     "data": {
      "text/plain": [
       "(1917, 6)"
      ]
     },
     "execution_count": 5,
     "metadata": {},
     "output_type": "execute_result"
    }
   ],
   "source": [
    "# Verificando a quantidade de observações e atributos.\n",
    "petr3.shape"
   ]
  },
  {
   "cell_type": "markdown",
   "metadata": {},
   "source": [
    "* Há um total de **1917 registros** e **6 atributos**.\n",
    "* Os registros correspondem aos dias de funcionamento da bolsa de valores de SP, ou seja, so há dados de dias da semana."
   ]
  },
  {
   "cell_type": "code",
   "execution_count": 6,
   "metadata": {},
   "outputs": [
    {
     "name": "stdout",
     "output_type": "stream",
     "text": [
      "<class 'pandas.core.frame.DataFrame'>\n",
      "DatetimeIndex: 1917 entries, 2015-01-02 to 2022-09-16\n",
      "Data columns (total 6 columns):\n",
      " #   Column     Non-Null Count  Dtype  \n",
      "---  ------     --------------  -----  \n",
      " 0   Open       1917 non-null   float64\n",
      " 1   High       1917 non-null   float64\n",
      " 2   Low        1917 non-null   float64\n",
      " 3   Close      1917 non-null   float64\n",
      " 4   Adj Close  1917 non-null   float64\n",
      " 5   Volume     1917 non-null   int64  \n",
      "dtypes: float64(5), int64(1)\n",
      "memory usage: 104.8 KB\n"
     ]
    }
   ],
   "source": [
    "# Metadados dos dados.\n",
    "petr3.info()"
   ]
  },
  {
   "cell_type": "markdown",
   "metadata": {},
   "source": [
    "* Todos os atributos são do tipo numérico, especificamente do tipo **`contínuo`**, ou seja, valores reais."
   ]
  },
  {
   "cell_type": "code",
   "execution_count": 7,
   "metadata": {},
   "outputs": [
    {
     "data": {
      "text/plain": [
       "0"
      ]
     },
     "execution_count": 7,
     "metadata": {},
     "output_type": "execute_result"
    }
   ],
   "source": [
    "# Verificando a existência de valores ausentes.\n",
    "petr3.isnull().sum().sum()"
   ]
  },
  {
   "cell_type": "markdown",
   "metadata": {},
   "source": [
    "* **Não há valores ausentes** em nossa base de dados."
   ]
  },
  {
   "cell_type": "code",
   "execution_count": 8,
   "metadata": {},
   "outputs": [
    {
     "data": {
      "text/html": [
       "<div>\n",
       "<style scoped>\n",
       "    .dataframe tbody tr th:only-of-type {\n",
       "        vertical-align: middle;\n",
       "    }\n",
       "\n",
       "    .dataframe tbody tr th {\n",
       "        vertical-align: top;\n",
       "    }\n",
       "\n",
       "    .dataframe thead th {\n",
       "        text-align: right;\n",
       "    }\n",
       "</style>\n",
       "<table border=\"1\" class=\"dataframe\">\n",
       "  <thead>\n",
       "    <tr style=\"text-align: right;\">\n",
       "      <th></th>\n",
       "      <th>Open</th>\n",
       "      <th>High</th>\n",
       "      <th>Low</th>\n",
       "      <th>Close</th>\n",
       "      <th>Adj Close</th>\n",
       "      <th>Volume</th>\n",
       "    </tr>\n",
       "  </thead>\n",
       "  <tbody>\n",
       "    <tr>\n",
       "      <th>count</th>\n",
       "      <td>1917.000000</td>\n",
       "      <td>1917.000000</td>\n",
       "      <td>1917.000000</td>\n",
       "      <td>1917.000000</td>\n",
       "      <td>1917.000000</td>\n",
       "      <td>1.917000e+03</td>\n",
       "    </tr>\n",
       "    <tr>\n",
       "      <th>mean</th>\n",
       "      <td>21.701450</td>\n",
       "      <td>22.065232</td>\n",
       "      <td>21.334851</td>\n",
       "      <td>21.689390</td>\n",
       "      <td>12.632543</td>\n",
       "      <td>1.514514e+07</td>\n",
       "    </tr>\n",
       "    <tr>\n",
       "      <th>std</th>\n",
       "      <td>8.315143</td>\n",
       "      <td>8.393672</td>\n",
       "      <td>8.230428</td>\n",
       "      <td>8.326142</td>\n",
       "      <td>6.393046</td>\n",
       "      <td>1.132762e+07</td>\n",
       "    </tr>\n",
       "    <tr>\n",
       "      <th>min</th>\n",
       "      <td>5.890000</td>\n",
       "      <td>5.990000</td>\n",
       "      <td>5.670000</td>\n",
       "      <td>5.910000</td>\n",
       "      <td>3.117616</td>\n",
       "      <td>0.000000e+00</td>\n",
       "    </tr>\n",
       "    <tr>\n",
       "      <th>25%</th>\n",
       "      <td>14.450000</td>\n",
       "      <td>14.700000</td>\n",
       "      <td>14.170000</td>\n",
       "      <td>14.420000</td>\n",
       "      <td>7.622597</td>\n",
       "      <td>8.281000e+06</td>\n",
       "    </tr>\n",
       "    <tr>\n",
       "      <th>50%</th>\n",
       "      <td>22.090000</td>\n",
       "      <td>22.480000</td>\n",
       "      <td>21.740000</td>\n",
       "      <td>22.100000</td>\n",
       "      <td>12.016315</td>\n",
       "      <td>1.256290e+07</td>\n",
       "    </tr>\n",
       "    <tr>\n",
       "      <th>75%</th>\n",
       "      <td>29.200001</td>\n",
       "      <td>29.600000</td>\n",
       "      <td>28.760000</td>\n",
       "      <td>29.170000</td>\n",
       "      <td>16.171955</td>\n",
       "      <td>1.846230e+07</td>\n",
       "    </tr>\n",
       "    <tr>\n",
       "      <th>max</th>\n",
       "      <td>40.250000</td>\n",
       "      <td>40.509998</td>\n",
       "      <td>39.439999</td>\n",
       "      <td>39.849998</td>\n",
       "      <td>38.270000</td>\n",
       "      <td>1.374106e+08</td>\n",
       "    </tr>\n",
       "  </tbody>\n",
       "</table>\n",
       "</div>"
      ],
      "text/plain": [
       "              Open         High          Low        Close    Adj Close  \\\n",
       "count  1917.000000  1917.000000  1917.000000  1917.000000  1917.000000   \n",
       "mean     21.701450    22.065232    21.334851    21.689390    12.632543   \n",
       "std       8.315143     8.393672     8.230428     8.326142     6.393046   \n",
       "min       5.890000     5.990000     5.670000     5.910000     3.117616   \n",
       "25%      14.450000    14.700000    14.170000    14.420000     7.622597   \n",
       "50%      22.090000    22.480000    21.740000    22.100000    12.016315   \n",
       "75%      29.200001    29.600000    28.760000    29.170000    16.171955   \n",
       "max      40.250000    40.509998    39.439999    39.849998    38.270000   \n",
       "\n",
       "             Volume  \n",
       "count  1.917000e+03  \n",
       "mean   1.514514e+07  \n",
       "std    1.132762e+07  \n",
       "min    0.000000e+00  \n",
       "25%    8.281000e+06  \n",
       "50%    1.256290e+07  \n",
       "75%    1.846230e+07  \n",
       "max    1.374106e+08  "
      ]
     },
     "execution_count": 8,
     "metadata": {},
     "output_type": "execute_result"
    }
   ],
   "source": [
    "# Resumo estatístico.\n",
    "petr3.describe()"
   ]
  },
  {
   "cell_type": "markdown",
   "metadata": {},
   "source": [
    "* O valor de fechamento mais alto registrado foi de **R$ 39,84**, e o mínimo **R$ 5,91**.\n",
    "* O valor de abertura mais alto registrado foi de **R$ 40,25**, e o mínimo **R$ 5,89**.\n",
    "* O valor de cotação mais alto que a ação chegou a ter em um dia foi de **R$ 40,50**, e o mais baixo de **R$ 5,99**.\n",
    "* O valor de cotação mais baixo que a ação chegou a ter em um dia foi de **R$ 39,43**, e o mais baixo de **5,67**."
   ]
  },
  {
   "cell_type": "code",
   "execution_count": 9,
   "metadata": {},
   "outputs": [
    {
     "data": {
      "text/html": [
       "<div>\n",
       "<style scoped>\n",
       "    .dataframe tbody tr th:only-of-type {\n",
       "        vertical-align: middle;\n",
       "    }\n",
       "\n",
       "    .dataframe tbody tr th {\n",
       "        vertical-align: top;\n",
       "    }\n",
       "\n",
       "    .dataframe thead th {\n",
       "        text-align: right;\n",
       "    }\n",
       "</style>\n",
       "<table border=\"1\" class=\"dataframe\">\n",
       "  <thead>\n",
       "    <tr style=\"text-align: right;\">\n",
       "      <th></th>\n",
       "      <th>Open</th>\n",
       "      <th>High</th>\n",
       "      <th>Low</th>\n",
       "      <th>Close</th>\n",
       "      <th>Adj Close</th>\n",
       "      <th>Volume</th>\n",
       "    </tr>\n",
       "    <tr>\n",
       "      <th>Date</th>\n",
       "      <th></th>\n",
       "      <th></th>\n",
       "      <th></th>\n",
       "      <th></th>\n",
       "      <th></th>\n",
       "      <th></th>\n",
       "    </tr>\n",
       "  </thead>\n",
       "  <tbody>\n",
       "    <tr>\n",
       "      <th>2022-08-09</th>\n",
       "      <td>39.740002</td>\n",
       "      <td>40.099998</td>\n",
       "      <td>39.439999</td>\n",
       "      <td>39.849998</td>\n",
       "      <td>32.964211</td>\n",
       "      <td>16911500</td>\n",
       "    </tr>\n",
       "  </tbody>\n",
       "</table>\n",
       "</div>"
      ],
      "text/plain": [
       "                 Open       High        Low      Close  Adj Close    Volume\n",
       "Date                                                                       \n",
       "2022-08-09  39.740002  40.099998  39.439999  39.849998  32.964211  16911500"
      ]
     },
     "execution_count": 9,
     "metadata": {},
     "output_type": "execute_result"
    }
   ],
   "source": [
    "# Verificando a data na qual a ação teve o preço mais alto em seu fechamento.\n",
    "petr3[(petr3['Close'] >= 39.84) & (petr3['Close'] <= 40)]"
   ]
  },
  {
   "cell_type": "markdown",
   "metadata": {},
   "source": [
    "* **`2022/08/09`** foi o momento em que a ação alcançou o preço mais alto em seu fechamento."
   ]
  },
  {
   "cell_type": "code",
   "execution_count": 10,
   "metadata": {},
   "outputs": [
    {
     "data": {
      "text/html": [
       "<div>\n",
       "<style scoped>\n",
       "    .dataframe tbody tr th:only-of-type {\n",
       "        vertical-align: middle;\n",
       "    }\n",
       "\n",
       "    .dataframe tbody tr th {\n",
       "        vertical-align: top;\n",
       "    }\n",
       "\n",
       "    .dataframe thead th {\n",
       "        text-align: right;\n",
       "    }\n",
       "</style>\n",
       "<table border=\"1\" class=\"dataframe\">\n",
       "  <thead>\n",
       "    <tr style=\"text-align: right;\">\n",
       "      <th></th>\n",
       "      <th>Open</th>\n",
       "      <th>High</th>\n",
       "      <th>Low</th>\n",
       "      <th>Close</th>\n",
       "      <th>Adj Close</th>\n",
       "      <th>Volume</th>\n",
       "    </tr>\n",
       "    <tr>\n",
       "      <th>Date</th>\n",
       "      <th></th>\n",
       "      <th></th>\n",
       "      <th></th>\n",
       "      <th></th>\n",
       "      <th></th>\n",
       "      <th></th>\n",
       "    </tr>\n",
       "  </thead>\n",
       "  <tbody>\n",
       "    <tr>\n",
       "      <th>2016-01-20</th>\n",
       "      <td>5.93</td>\n",
       "      <td>5.99</td>\n",
       "      <td>5.67</td>\n",
       "      <td>5.93</td>\n",
       "      <td>3.128166</td>\n",
       "      <td>12696100</td>\n",
       "    </tr>\n",
       "    <tr>\n",
       "      <th>2016-01-26</th>\n",
       "      <td>6.10</td>\n",
       "      <td>6.24</td>\n",
       "      <td>5.86</td>\n",
       "      <td>5.96</td>\n",
       "      <td>3.143991</td>\n",
       "      <td>13040400</td>\n",
       "    </tr>\n",
       "    <tr>\n",
       "      <th>2016-02-11</th>\n",
       "      <td>5.89</td>\n",
       "      <td>6.05</td>\n",
       "      <td>5.78</td>\n",
       "      <td>5.91</td>\n",
       "      <td>3.117616</td>\n",
       "      <td>12812600</td>\n",
       "    </tr>\n",
       "  </tbody>\n",
       "</table>\n",
       "</div>"
      ],
      "text/plain": [
       "            Open  High   Low  Close  Adj Close    Volume\n",
       "Date                                                    \n",
       "2016-01-20  5.93  5.99  5.67   5.93   3.128166  12696100\n",
       "2016-01-26  6.10  6.24  5.86   5.96   3.143991  13040400\n",
       "2016-02-11  5.89  6.05  5.78   5.91   3.117616  12812600"
      ]
     },
     "execution_count": 10,
     "metadata": {},
     "output_type": "execute_result"
    }
   ],
   "source": [
    "# Verificando a data na qual a ação teve o preço mais baixo em seu fechamento.\n",
    "petr3[(petr3['Close'] >= 5.85) & (petr3['Close'] < 6.00)]"
   ]
  },
  {
   "cell_type": "markdown",
   "metadata": {},
   "source": [
    "* **`2016/02/11`** foi o momento em que a ação alcançou o preço mais baixo em seu fechamento."
   ]
  },
  {
   "cell_type": "code",
   "execution_count": 11,
   "metadata": {},
   "outputs": [
    {
     "data": {
      "text/html": [
       "<div>\n",
       "<style scoped>\n",
       "    .dataframe tbody tr th:only-of-type {\n",
       "        vertical-align: middle;\n",
       "    }\n",
       "\n",
       "    .dataframe tbody tr th {\n",
       "        vertical-align: top;\n",
       "    }\n",
       "\n",
       "    .dataframe thead th {\n",
       "        text-align: right;\n",
       "    }\n",
       "</style>\n",
       "<table border=\"1\" class=\"dataframe\">\n",
       "  <thead>\n",
       "    <tr style=\"text-align: right;\">\n",
       "      <th></th>\n",
       "      <th>Open</th>\n",
       "      <th>High</th>\n",
       "      <th>Low</th>\n",
       "      <th>Close</th>\n",
       "      <th>Adj Close</th>\n",
       "      <th>Volume</th>\n",
       "      <th>price_var</th>\n",
       "    </tr>\n",
       "    <tr>\n",
       "      <th>Date</th>\n",
       "      <th></th>\n",
       "      <th></th>\n",
       "      <th></th>\n",
       "      <th></th>\n",
       "      <th></th>\n",
       "      <th></th>\n",
       "      <th></th>\n",
       "    </tr>\n",
       "  </thead>\n",
       "  <tbody>\n",
       "    <tr>\n",
       "      <th>2015-01-02</th>\n",
       "      <td>9.58</td>\n",
       "      <td>9.67</td>\n",
       "      <td>9.00</td>\n",
       "      <td>9.00</td>\n",
       "      <td>4.747638</td>\n",
       "      <td>12710900</td>\n",
       "      <td>0.67</td>\n",
       "    </tr>\n",
       "    <tr>\n",
       "      <th>2015-01-05</th>\n",
       "      <td>8.64</td>\n",
       "      <td>8.96</td>\n",
       "      <td>8.25</td>\n",
       "      <td>8.27</td>\n",
       "      <td>4.362552</td>\n",
       "      <td>25730600</td>\n",
       "      <td>0.71</td>\n",
       "    </tr>\n",
       "    <tr>\n",
       "      <th>2015-01-06</th>\n",
       "      <td>8.28</td>\n",
       "      <td>8.53</td>\n",
       "      <td>7.78</td>\n",
       "      <td>8.06</td>\n",
       "      <td>4.251774</td>\n",
       "      <td>29754600</td>\n",
       "      <td>0.75</td>\n",
       "    </tr>\n",
       "    <tr>\n",
       "      <th>2015-01-07</th>\n",
       "      <td>8.30</td>\n",
       "      <td>8.51</td>\n",
       "      <td>8.08</td>\n",
       "      <td>8.45</td>\n",
       "      <td>4.457505</td>\n",
       "      <td>34128300</td>\n",
       "      <td>0.43</td>\n",
       "    </tr>\n",
       "    <tr>\n",
       "      <th>2015-01-08</th>\n",
       "      <td>8.60</td>\n",
       "      <td>9.26</td>\n",
       "      <td>8.52</td>\n",
       "      <td>9.02</td>\n",
       "      <td>4.758188</td>\n",
       "      <td>37487300</td>\n",
       "      <td>0.74</td>\n",
       "    </tr>\n",
       "  </tbody>\n",
       "</table>\n",
       "</div>"
      ],
      "text/plain": [
       "            Open  High   Low  Close  Adj Close    Volume  price_var\n",
       "Date                                                               \n",
       "2015-01-02  9.58  9.67  9.00   9.00   4.747638  12710900       0.67\n",
       "2015-01-05  8.64  8.96  8.25   8.27   4.362552  25730600       0.71\n",
       "2015-01-06  8.28  8.53  7.78   8.06   4.251774  29754600       0.75\n",
       "2015-01-07  8.30  8.51  8.08   8.45   4.457505  34128300       0.43\n",
       "2015-01-08  8.60  9.26  8.52   9.02   4.758188  37487300       0.74"
      ]
     },
     "execution_count": 11,
     "metadata": {},
     "output_type": "execute_result"
    }
   ],
   "source": [
    "# Criando o atributo `price_var`, para noção da variação do preço no dia em questão.\n",
    "petr3['price_var'] = petr3['High'] - petr3['Low']\n",
    "petr3.head()"
   ]
  },
  {
   "cell_type": "code",
   "execution_count": 12,
   "metadata": {},
   "outputs": [
    {
     "data": {
      "text/plain": [
       "0.730380798791558"
      ]
     },
     "execution_count": 12,
     "metadata": {},
     "output_type": "execute_result"
    }
   ],
   "source": [
    "# Calculando o valor médio da variação.\n",
    "petr3['price_var'].mean()"
   ]
  },
  {
   "cell_type": "markdown",
   "metadata": {},
   "source": [
    "* Em média a ação sofria uma volatilidade/variação de **R$ 0,73** em seu preço por dia."
   ]
  },
  {
   "cell_type": "code",
   "execution_count": 13,
   "metadata": {},
   "outputs": [
    {
     "name": "stdout",
     "output_type": "stream",
     "text": [
      "Caso mude de ideia, execute a célula novamente !\n"
     ]
    }
   ],
   "source": [
    "# Criando uma função para salavar o dataframe em formato csv.\n",
    "opcao = input('Deseja salvar o DataFrame em formato csv? [s/n]: ')\n",
    "\n",
    "if opcao == 's':\n",
    "    petr3.to_csv('petr3.csv')\n",
    "else:\n",
    "    print('Caso mude de ideia, execute a célula novamente !')    "
   ]
  },
  {
   "cell_type": "code",
   "execution_count": 14,
   "metadata": {},
   "outputs": [
    {
     "data": {
      "image/png": "[encoded data removed]",
      "text/plain": [
       "<Figure size 576x576 with 1 Axes>"
      ]
     },
     "metadata": {
      "needs_background": "light"
     },
     "output_type": "display_data"
    }
   ],
   "source": [
    "# Plotando o histórico de fechamento da ação.\n",
    "plt.figure(figsize = (8, 8));\n",
    "petr3['Close'].plot();"
   ]
  },
  {
   "cell_type": "markdown",
   "metadata": {},
   "source": [
    "* Em 2020, provavelmente devido a pândemia, a ação teve uma grande desvalorização."
   ]
  },
  {
   "cell_type": "code",
   "execution_count": 15,
   "metadata": {},
   "outputs": [
    {
     "data": {
      "image/png": "[encoded data removed]",
      "text/plain": [
       "<Figure size 576x576 with 1 Axes>"
      ]
     },
     "metadata": {
      "needs_background": "light"
     },
     "output_type": "display_data"
    }
   ],
   "source": [
    "# Plotando a variação de preço histórica.\n",
    "plt.figure(figsize = (8, 8));\n",
    "petr3['price_var'].plot();"
   ]
  },
  {
   "cell_type": "markdown",
   "metadata": {},
   "source": [
    "* O preço da ação **não apresenta** uma estabilidade em seu preço, havendo certos momentos em que há picos de volatilidade/variação.\n",
    "* Oque é perfeitamente compreensivo ! "
   ]
  },
  {
   "cell_type": "code",
   "execution_count": 16,
   "metadata": {},
   "outputs": [],
   "source": [
    "# Criando uma lista com conjunto de diferentes ações.\n",
    "acoes = ['ABEV3.SA','BBAS3.SA','ITSA3.SA','VALE3.SA',]"
   ]
  },
  {
   "cell_type": "markdown",
   "metadata": {},
   "source": [
    "As ações escolhidas correspondem a:\n",
    "* **Ambev, Banco do Brasil, Itaúsa e Vale**."
   ]
  },
  {
   "cell_type": "code",
   "execution_count": 17,
   "metadata": {},
   "outputs": [
    {
     "name": "stdout",
     "output_type": "stream",
     "text": [
      "[*********************100%***********************]  4 of 4 completed\n"
     ]
    }
   ],
   "source": [
    "# Carga de dados.\n",
    "acoes = yf.download(acoes, start = '2015-01-01')['Close']"
   ]
  },
  {
   "cell_type": "markdown",
   "metadata": {},
   "source": [
    "* A busca será feita pelo **preço de fechamento** das ações."
   ]
  },
  {
   "cell_type": "code",
   "execution_count": 18,
   "metadata": {},
   "outputs": [
    {
     "data": {
      "text/html": [
       "<div>\n",
       "<style scoped>\n",
       "    .dataframe tbody tr th:only-of-type {\n",
       "        vertical-align: middle;\n",
       "    }\n",
       "\n",
       "    .dataframe tbody tr th {\n",
       "        vertical-align: top;\n",
       "    }\n",
       "\n",
       "    .dataframe thead th {\n",
       "        text-align: right;\n",
       "    }\n",
       "</style>\n",
       "<table border=\"1\" class=\"dataframe\">\n",
       "  <thead>\n",
       "    <tr style=\"text-align: right;\">\n",
       "      <th></th>\n",
       "      <th>ABEV3.SA</th>\n",
       "      <th>BBAS3.SA</th>\n",
       "      <th>ITSA3.SA</th>\n",
       "      <th>VALE3.SA</th>\n",
       "    </tr>\n",
       "    <tr>\n",
       "      <th>Date</th>\n",
       "      <th></th>\n",
       "      <th></th>\n",
       "      <th></th>\n",
       "      <th></th>\n",
       "    </tr>\n",
       "  </thead>\n",
       "  <tbody>\n",
       "    <tr>\n",
       "      <th>2015-01-02</th>\n",
       "      <td>16.020000</td>\n",
       "      <td>22.650000</td>\n",
       "      <td>6.630748</td>\n",
       "      <td>21.280001</td>\n",
       "    </tr>\n",
       "    <tr>\n",
       "      <th>2015-01-05</th>\n",
       "      <td>15.730000</td>\n",
       "      <td>22.180000</td>\n",
       "      <td>6.525498</td>\n",
       "      <td>20.959999</td>\n",
       "    </tr>\n",
       "    <tr>\n",
       "      <th>2015-01-06</th>\n",
       "      <td>16.330000</td>\n",
       "      <td>22.490000</td>\n",
       "      <td>6.658815</td>\n",
       "      <td>21.799999</td>\n",
       "    </tr>\n",
       "    <tr>\n",
       "      <th>2015-01-07</th>\n",
       "      <td>16.559999</td>\n",
       "      <td>23.480000</td>\n",
       "      <td>6.834232</td>\n",
       "      <td>22.600000</td>\n",
       "    </tr>\n",
       "    <tr>\n",
       "      <th>2015-01-08</th>\n",
       "      <td>16.540001</td>\n",
       "      <td>23.559999</td>\n",
       "      <td>6.876332</td>\n",
       "      <td>22.840000</td>\n",
       "    </tr>\n",
       "  </tbody>\n",
       "</table>\n",
       "</div>"
      ],
      "text/plain": [
       "             ABEV3.SA   BBAS3.SA  ITSA3.SA   VALE3.SA\n",
       "Date                                                 \n",
       "2015-01-02  16.020000  22.650000  6.630748  21.280001\n",
       "2015-01-05  15.730000  22.180000  6.525498  20.959999\n",
       "2015-01-06  16.330000  22.490000  6.658815  21.799999\n",
       "2015-01-07  16.559999  23.480000  6.834232  22.600000\n",
       "2015-01-08  16.540001  23.559999  6.876332  22.840000"
      ]
     },
     "execution_count": 18,
     "metadata": {},
     "output_type": "execute_result"
    }
   ],
   "source": [
    "# Visualizando os 5 primeiros registros.\n",
    "acoes.head()"
   ]
  },
  {
   "cell_type": "code",
   "execution_count": 19,
   "metadata": {},
   "outputs": [
    {
     "data": {
      "text/html": [
       "<div>\n",
       "<style scoped>\n",
       "    .dataframe tbody tr th:only-of-type {\n",
       "        vertical-align: middle;\n",
       "    }\n",
       "\n",
       "    .dataframe tbody tr th {\n",
       "        vertical-align: top;\n",
       "    }\n",
       "\n",
       "    .dataframe thead th {\n",
       "        text-align: right;\n",
       "    }\n",
       "</style>\n",
       "<table border=\"1\" class=\"dataframe\">\n",
       "  <thead>\n",
       "    <tr style=\"text-align: right;\">\n",
       "      <th></th>\n",
       "      <th>ABEV3.SA</th>\n",
       "      <th>BBAS3.SA</th>\n",
       "      <th>ITSA3.SA</th>\n",
       "      <th>VALE3.SA</th>\n",
       "    </tr>\n",
       "    <tr>\n",
       "      <th>Date</th>\n",
       "      <th></th>\n",
       "      <th></th>\n",
       "      <th></th>\n",
       "      <th></th>\n",
       "    </tr>\n",
       "  </thead>\n",
       "  <tbody>\n",
       "    <tr>\n",
       "      <th>2022-09-12</th>\n",
       "      <td>15.70</td>\n",
       "      <td>41.180000</td>\n",
       "      <td>9.61</td>\n",
       "      <td>70.160004</td>\n",
       "    </tr>\n",
       "    <tr>\n",
       "      <th>2022-09-13</th>\n",
       "      <td>15.59</td>\n",
       "      <td>40.220001</td>\n",
       "      <td>9.47</td>\n",
       "      <td>68.250000</td>\n",
       "    </tr>\n",
       "    <tr>\n",
       "      <th>2022-09-14</th>\n",
       "      <td>15.38</td>\n",
       "      <td>40.259998</td>\n",
       "      <td>9.47</td>\n",
       "      <td>67.000000</td>\n",
       "    </tr>\n",
       "    <tr>\n",
       "      <th>2022-09-15</th>\n",
       "      <td>15.30</td>\n",
       "      <td>39.849998</td>\n",
       "      <td>9.45</td>\n",
       "      <td>68.349998</td>\n",
       "    </tr>\n",
       "    <tr>\n",
       "      <th>2022-09-16</th>\n",
       "      <td>15.27</td>\n",
       "      <td>39.400002</td>\n",
       "      <td>9.39</td>\n",
       "      <td>68.250000</td>\n",
       "    </tr>\n",
       "  </tbody>\n",
       "</table>\n",
       "</div>"
      ],
      "text/plain": [
       "            ABEV3.SA   BBAS3.SA  ITSA3.SA   VALE3.SA\n",
       "Date                                                \n",
       "2022-09-12     15.70  41.180000      9.61  70.160004\n",
       "2022-09-13     15.59  40.220001      9.47  68.250000\n",
       "2022-09-14     15.38  40.259998      9.47  67.000000\n",
       "2022-09-15     15.30  39.849998      9.45  68.349998\n",
       "2022-09-16     15.27  39.400002      9.39  68.250000"
      ]
     },
     "execution_count": 19,
     "metadata": {},
     "output_type": "execute_result"
    }
   ],
   "source": [
    "# Visualizando os 5 últimos registros.\n",
    "acoes.tail()"
   ]
  },
  {
   "cell_type": "code",
   "execution_count": 20,
   "metadata": {},
   "outputs": [
    {
     "data": {
      "text/plain": [
       "(1918, 4)"
      ]
     },
     "execution_count": 20,
     "metadata": {},
     "output_type": "execute_result"
    }
   ],
   "source": [
    "# Verificando a quantidade de observações e atributos.\n",
    "acoes.shape"
   ]
  },
  {
   "cell_type": "markdown",
   "metadata": {},
   "source": [
    "* Há um total de **1918 registros** e **4 atributos**."
   ]
  },
  {
   "cell_type": "code",
   "execution_count": 21,
   "metadata": {},
   "outputs": [
    {
     "data": {
      "text/plain": [
       "4"
      ]
     },
     "execution_count": 21,
     "metadata": {},
     "output_type": "execute_result"
    }
   ],
   "source": [
    "# Verificando a existência de valores ausentes na base de dados.\n",
    "acoes.isnull().sum().sum()"
   ]
  },
  {
   "cell_type": "code",
   "execution_count": 22,
   "metadata": {},
   "outputs": [],
   "source": [
    "# Removendo os valores nulos/ausentes.\n",
    "acoes.dropna(inplace = True)"
   ]
  },
  {
   "cell_type": "code",
   "execution_count": 23,
   "metadata": {},
   "outputs": [
    {
     "name": "stdout",
     "output_type": "stream",
     "text": [
      "Caso mude de ideia, execute a célula novamente !\n"
     ]
    }
   ],
   "source": [
    "# Criando uma função para salavar o dataframe em formato csv.\n",
    "opcao = input('Deseja salvar o DataFrame em formato csv? [s/n]: ')\n",
    "\n",
    "if opcao == 's':\n",
    "    acoes.to_csv('acoes.csv')\n",
    "else:\n",
    "    print('Caso mude de ideia, execute a célula novamente !')    "
   ]
  },
  {
   "cell_type": "code",
   "execution_count": 24,
   "metadata": {},
   "outputs": [
    {
     "data": {
      "text/html": [
       "<div>\n",
       "<style scoped>\n",
       "    .dataframe tbody tr th:only-of-type {\n",
       "        vertical-align: middle;\n",
       "    }\n",
       "\n",
       "    .dataframe tbody tr th {\n",
       "        vertical-align: top;\n",
       "    }\n",
       "\n",
       "    .dataframe thead th {\n",
       "        text-align: right;\n",
       "    }\n",
       "</style>\n",
       "<table border=\"1\" class=\"dataframe\">\n",
       "  <thead>\n",
       "    <tr style=\"text-align: right;\">\n",
       "      <th></th>\n",
       "      <th>ABEV3.SA</th>\n",
       "      <th>BBAS3.SA</th>\n",
       "      <th>ITSA3.SA</th>\n",
       "      <th>VALE3.SA</th>\n",
       "    </tr>\n",
       "  </thead>\n",
       "  <tbody>\n",
       "    <tr>\n",
       "      <th>count</th>\n",
       "      <td>1917.000000</td>\n",
       "      <td>1917.000000</td>\n",
       "      <td>1917.000000</td>\n",
       "      <td>1917.000000</td>\n",
       "    </tr>\n",
       "    <tr>\n",
       "      <th>mean</th>\n",
       "      <td>17.507449</td>\n",
       "      <td>32.443532</td>\n",
       "      <td>9.533778</td>\n",
       "      <td>48.912473</td>\n",
       "    </tr>\n",
       "    <tr>\n",
       "      <th>std</th>\n",
       "      <td>2.480418</td>\n",
       "      <td>9.724636</td>\n",
       "      <td>2.352234</td>\n",
       "      <td>27.226616</td>\n",
       "    </tr>\n",
       "    <tr>\n",
       "      <th>min</th>\n",
       "      <td>11.030000</td>\n",
       "      <td>12.700000</td>\n",
       "      <td>4.897239</td>\n",
       "      <td>8.600000</td>\n",
       "    </tr>\n",
       "    <tr>\n",
       "      <th>25%</th>\n",
       "      <td>15.660000</td>\n",
       "      <td>26.620001</td>\n",
       "      <td>7.314560</td>\n",
       "      <td>26.100000</td>\n",
       "    </tr>\n",
       "    <tr>\n",
       "      <th>50%</th>\n",
       "      <td>17.969999</td>\n",
       "      <td>31.860001</td>\n",
       "      <td>9.723809</td>\n",
       "      <td>47.840000</td>\n",
       "    </tr>\n",
       "    <tr>\n",
       "      <th>75%</th>\n",
       "      <td>19.100000</td>\n",
       "      <td>37.000000</td>\n",
       "      <td>11.149844</td>\n",
       "      <td>62.200001</td>\n",
       "    </tr>\n",
       "    <tr>\n",
       "      <th>max</th>\n",
       "      <td>24.270000</td>\n",
       "      <td>55.180000</td>\n",
       "      <td>15.780952</td>\n",
       "      <td>118.720001</td>\n",
       "    </tr>\n",
       "  </tbody>\n",
       "</table>\n",
       "</div>"
      ],
      "text/plain": [
       "          ABEV3.SA     BBAS3.SA     ITSA3.SA     VALE3.SA\n",
       "count  1917.000000  1917.000000  1917.000000  1917.000000\n",
       "mean     17.507449    32.443532     9.533778    48.912473\n",
       "std       2.480418     9.724636     2.352234    27.226616\n",
       "min      11.030000    12.700000     4.897239     8.600000\n",
       "25%      15.660000    26.620001     7.314560    26.100000\n",
       "50%      17.969999    31.860001     9.723809    47.840000\n",
       "75%      19.100000    37.000000    11.149844    62.200001\n",
       "max      24.270000    55.180000    15.780952   118.720001"
      ]
     },
     "execution_count": 24,
     "metadata": {},
     "output_type": "execute_result"
    }
   ],
   "source": [
    "# Resumo estatístico.\n",
    "acoes.describe()"
   ]
  },
  {
   "cell_type": "markdown",
   "metadata": {},
   "source": [
    "* As empresas `ABEV3` e `ITSA3` são aquelas que possuem a **menor variação** histórica de preço.\n",
    "* `VALE3` é aquela que tem a **maior variação** em seu preço histórico, bem como a compania com o preço mais caro por ação **R$ 118,72**.\n",
    "*  `ITSA3` teve o menor preço histórico registrado no valor de **R$ 4,89**."
   ]
  },
  {
   "cell_type": "code",
   "execution_count": 25,
   "metadata": {},
   "outputs": [
    {
     "data": {
      "image/png": "[encoded data removed]",
      "text/plain": [
       "<Figure size 720x3600 with 3 Axes>"
      ]
     },
     "metadata": {
      "needs_background": "light"
     },
     "output_type": "display_data"
    }
   ],
   "source": [
    "# Plotando o gráfico de caixa para cada ação.\n",
    "plt.figure(figsize = (10, 50));\n",
    "for i in range(1, len(acoes.columns)):\n",
    "    plt.subplot(7, 1, i + 1);\n",
    "    sns.boxplot(x = acoes[acoes.columns[i]]);\n",
    "    plt.title(acoes.columns[i]);\n"
   ]
  },
  {
   "cell_type": "code",
   "execution_count": 26,
   "metadata": {},
   "outputs": [],
   "source": [
    "acoesn = acoes.copy()\n",
    "acoesn = [[acoesn[i] / acoesn[i][0]]for i in acoesn.columns[0:]]"
   ]
  },
  {
   "cell_type": "code",
   "execution_count": 27,
   "metadata": {},
   "outputs": [
    {
     "ename": "KeyError",
     "evalue": "0",
     "output_type": "error",
     "traceback": [
      "\u001b[0;31m---------------------------------------------------------------------------\u001b[0m",
      "\u001b[0;31mKeyError\u001b[0m                                  Traceback (most recent call last)",
      "File \u001b[0;32m~/anaconda3/lib/python3.9/site-packages/pandas/core/indexes/base.py:3629\u001b[0m, in \u001b[0;36mIndex.get_loc\u001b[0;34m(self, key, method, tolerance)\u001b[0m\n\u001b[1;32m   3628\u001b[0m \u001b[39mtry\u001b[39;00m:\n\u001b[0;32m-> 3629\u001b[0m     \u001b[39mreturn\u001b[39;00m \u001b[39mself\u001b[39;49m\u001b[39m.\u001b[39;49m_engine\u001b[39m.\u001b[39;49mget_loc(casted_key)\n\u001b[1;32m   3630\u001b[0m \u001b[39mexcept\u001b[39;00m \u001b[39mKeyError\u001b[39;00m \u001b[39mas\u001b[39;00m err:\n",
      "File \u001b[0;32m~/anaconda3/lib/python3.9/site-packages/pandas/_libs/index.pyx:136\u001b[0m, in \u001b[0;36mpandas._libs.index.IndexEngine.get_loc\u001b[0;34m()\u001b[0m\n",
      "File \u001b[0;32m~/anaconda3/lib/python3.9/site-packages/pandas/_libs/index.pyx:163\u001b[0m, in \u001b[0;36mpandas._libs.index.IndexEngine.get_loc\u001b[0;34m()\u001b[0m\n",
      "File \u001b[0;32mpandas/_libs/hashtable_class_helper.pxi:5198\u001b[0m, in \u001b[0;36mpandas._libs.hashtable.PyObjectHashTable.get_item\u001b[0;34m()\u001b[0m\n",
      "File \u001b[0;32mpandas/_libs/hashtable_class_helper.pxi:5206\u001b[0m, in \u001b[0;36mpandas._libs.hashtable.PyObjectHashTable.get_item\u001b[0;34m()\u001b[0m\n",
      "\u001b[0;31mKeyError\u001b[0m: 0",
      "\nThe above exception was the direct cause of the following exception:\n",
      "\u001b[0;31mKeyError\u001b[0m                                  Traceback (most recent call last)",
      "\u001b[1;32m/home/igor/Desktop/acoes.ipynb Cell 42\u001b[0m in \u001b[0;36m<cell line: 1>\u001b[0;34m()\u001b[0m\n\u001b[0;32m----> <a href='vscode-notebook-cell:/home/igor/Desktop/acoes.ipynb#X56sZmlsZQ%3D%3D?line=0'>1</a>\u001b[0m acoes[\u001b[39m0\u001b[39;49m]\n",
      "File \u001b[0;32m~/anaconda3/lib/python3.9/site-packages/pandas/core/frame.py:3505\u001b[0m, in \u001b[0;36mDataFrame.__getitem__\u001b[0;34m(self, key)\u001b[0m\n\u001b[1;32m   3503\u001b[0m \u001b[39mif\u001b[39;00m \u001b[39mself\u001b[39m\u001b[39m.\u001b[39mcolumns\u001b[39m.\u001b[39mnlevels \u001b[39m>\u001b[39m \u001b[39m1\u001b[39m:\n\u001b[1;32m   3504\u001b[0m     \u001b[39mreturn\u001b[39;00m \u001b[39mself\u001b[39m\u001b[39m.\u001b[39m_getitem_multilevel(key)\n\u001b[0;32m-> 3505\u001b[0m indexer \u001b[39m=\u001b[39m \u001b[39mself\u001b[39;49m\u001b[39m.\u001b[39;49mcolumns\u001b[39m.\u001b[39;49mget_loc(key)\n\u001b[1;32m   3506\u001b[0m \u001b[39mif\u001b[39;00m is_integer(indexer):\n\u001b[1;32m   3507\u001b[0m     indexer \u001b[39m=\u001b[39m [indexer]\n",
      "File \u001b[0;32m~/anaconda3/lib/python3.9/site-packages/pandas/core/indexes/base.py:3631\u001b[0m, in \u001b[0;36mIndex.get_loc\u001b[0;34m(self, key, method, tolerance)\u001b[0m\n\u001b[1;32m   3629\u001b[0m     \u001b[39mreturn\u001b[39;00m \u001b[39mself\u001b[39m\u001b[39m.\u001b[39m_engine\u001b[39m.\u001b[39mget_loc(casted_key)\n\u001b[1;32m   3630\u001b[0m \u001b[39mexcept\u001b[39;00m \u001b[39mKeyError\u001b[39;00m \u001b[39mas\u001b[39;00m err:\n\u001b[0;32m-> 3631\u001b[0m     \u001b[39mraise\u001b[39;00m \u001b[39mKeyError\u001b[39;00m(key) \u001b[39mfrom\u001b[39;00m \u001b[39merr\u001b[39;00m\n\u001b[1;32m   3632\u001b[0m \u001b[39mexcept\u001b[39;00m \u001b[39mTypeError\u001b[39;00m:\n\u001b[1;32m   3633\u001b[0m     \u001b[39m# If we have a listlike key, _check_indexing_error will raise\u001b[39;00m\n\u001b[1;32m   3634\u001b[0m     \u001b[39m#  InvalidIndexError. Otherwise we fall through and re-raise\u001b[39;00m\n\u001b[1;32m   3635\u001b[0m     \u001b[39m#  the TypeError.\u001b[39;00m\n\u001b[1;32m   3636\u001b[0m     \u001b[39mself\u001b[39m\u001b[39m.\u001b[39m_check_indexing_error(key)\n",
      "\u001b[0;31mKeyError\u001b[0m: 0"
     ]
    }
   ],
   "source": [
    "acoes[0]"
   ]
  },
  {
   "cell_type": "code",
   "execution_count": null,
   "metadata": {},
   "outputs": [],
   "source": []
  }
 ],
 "metadata": {
  "kernelspec": {
   "display_name": "Python 3.9.12 ('base')",
   "language": "python",
   "name": "python3"
  },
  "language_info": {
   "codemirror_mode": {
    "name": "ipython",
    "version": 3
   },
   "file_extension": ".py",
   "mimetype": "text/x-python",
   "name": "python",
   "nbconvert_exporter": "python",
   "pygments_lexer": "ipython3",
   "version": "3.9.12"
  },
  "orig_nbformat": 4,
  "vscode": {
   "interpreter": {
    "hash": "6bc5b3950b8712e6044fef285124dfb04c5ff8454c107885cc4ae53c9d3c04fd"
   }
  }
 },
 "nbformat": 4,
 "nbformat_minor": 2
}
